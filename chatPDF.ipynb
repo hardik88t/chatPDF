{
  "nbformat": 4,
  "nbformat_minor": 0,
  "metadata": {
    "colab": {
      "provenance": [],
      "authorship_tag": "ABX9TyPQjlcPAXxVxi/mNmT+5IzP",
      "include_colab_link": true
    },
    "kernelspec": {
      "name": "python3",
      "display_name": "Python 3"
    },
    "language_info": {
      "name": "python"
    }
  },
  "cells": [
    {
      "cell_type": "markdown",
      "metadata": {
        "id": "view-in-github",
        "colab_type": "text"
      },
      "source": [
        "<a href=\"https://colab.research.google.com/github/hardik88t/chatPDF/blob/main/chatPDF.ipynb\" target=\"_parent\"><img src=\"https://colab.research.google.com/assets/colab-badge.svg\" alt=\"Open In Colab\"/></a>"
      ]
    },
    {
      "cell_type": "code",
      "execution_count": null,
      "metadata": {
        "id": "moEATj3kwQIs"
      },
      "outputs": [],
      "source": [
        "# !pip install PyMuPDF\n",
        "# !pip install openai\n",
        "# !pip install transformers\n",
        "# !pip install sentencepiece\n",
        "# !pip install --upgrade transformers\n",
        "# !pip install --upgrade torch\n",
        "# !pip install -U scikit-learn\n",
        "# !pip install nltk\n",
        "# !pip install pdfplumber\n",
        "# !pip install tiktoken\n",
        "# !pip install spacy\n",
        "# !pip install pytesseract\n",
        "# !pip install pdf2image\n",
        "# !pip install PyPDF2\n",
        "# !pip install "
      ]
    }
  ]
}